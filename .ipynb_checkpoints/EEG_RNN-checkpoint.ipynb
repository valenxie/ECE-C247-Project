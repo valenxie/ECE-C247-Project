{
 "cells": [
  {
   "cell_type": "markdown",
   "metadata": {},
   "source": [
    "### Import Packages"
   ]
  },
  {
   "cell_type": "code",
   "execution_count": 67,
   "metadata": {},
   "outputs": [],
   "source": [
    "import numpy as np\n",
    "import matplotlib.pyplot as plt\n",
    "import tensorflow as tf                  # TensorFlow\n",
    "import tensorflow.nn as nn               # nn contains useful neural network functions like softmax, relu, tanh\n",
    "from tensorflow import keras \n",
    "from keras.models import Sequential\n",
    "from keras.regularizers import L1L2\n",
    "from keras.utils import to_categorical\n",
    "from keras.initializers import lecun_uniform\n",
    "from keras.optimizers import Adam\n",
    "from keras.metrics import categorical_accuracy\n",
    "from keras.layers import Input, Conv2D, ELU, BatchNormalization, MaxPool2D, Reshape, Dense, CuDNNLSTM, LSTM, add, concatenate, Bidirectional, Dropout, TimeDistributed, Lambda, Permute, Flatten"
   ]
  },
  {
   "cell_type": "markdown",
   "metadata": {},
   "source": [
    "### Upload Data"
   ]
  },
  {
   "cell_type": "code",
   "execution_count": 68,
   "metadata": {},
   "outputs": [],
   "source": [
    "X_test = np.load(\"X_test.npy\")\n",
    "y_test = np.load(\"y_test.npy\")\n",
    "person_train_valid = np.load(\"person_train_valid.npy\")\n",
    "X_train_valid = np.load(\"X_train_valid.npy\")\n",
    "y_train_valid = np.load(\"y_train_valid.npy\")\n",
    "person_test = np.load(\"person_test.npy\")"
   ]
  },
  {
   "cell_type": "markdown",
   "metadata": {},
   "source": [
    "### Shape of data"
   ]
  },
  {
   "cell_type": "code",
   "execution_count": 69,
   "metadata": {},
   "outputs": [
    {
     "name": "stdout",
     "output_type": "stream",
     "text": [
      "Training/Valid data shape: (2115, 22, 1000)\n",
      "Test data shape: (443, 22, 1000)\n",
      "Training/Valid target shape: (2115,)\n",
      "Test target shape: (443,)\n",
      "Person train/valid shape: (2115, 1)\n",
      "Person test shape: (443, 1)\n"
     ]
    }
   ],
   "source": [
    "print ('Training/Valid data shape: {}'.format(X_train_valid.shape))\n",
    "print ('Test data shape: {}'.format(X_test.shape))\n",
    "print ('Training/Valid target shape: {}'.format(y_train_valid.shape))\n",
    "print ('Test target shape: {}'.format(y_test.shape))\n",
    "print ('Person train/valid shape: {}'.format(person_train_valid.shape))\n",
    "print ('Person test shape: {}'.format(person_test.shape))"
   ]
  },
  {
   "cell_type": "markdown",
   "metadata": {},
   "source": [
    "### CRNN Model"
   ]
  },
  {
   "cell_type": "code",
   "execution_count": 70,
   "metadata": {},
   "outputs": [],
   "source": [
    "def crnn_model(data, time_period = 1000):\n",
    "\n",
    "    model = keras.Sequential(\n",
    "    [\n",
    "\n",
    "        Conv2D(32, kernel_size = (3, 3), padding = 'valid', activation = 'relu', use_bias = True, kernel_regularizer = L1L2(l1=0.0, l2=0.5)),\n",
    "        Conv2D(32, kernel_size = (3, 3), padding = 'valid', activation = 'relu', use_bias = True, kernel_regularizer = L1L2(l1=0.0, l2=0.5)),\n",
    "        BatchNormalization(axis = 1),\n",
    "        MaxPooling2D(pool_size=(2, 2), padding = 'valid'),\n",
    "        \n",
    "        Conv2D(64, kernel_size = (3, 3), padding = 'valid', activation = 'relu', use_bias = True, kernel_regularizer = L1L2(l1=0.0, l2=0.5)),\n",
    "        Conv2D(64, kernel_size = (3, 3), padding = 'valid', activation = 'relu', use_bias = True, kernel_regularizer = L1L2(l1=0.0, l2=0.5)),\n",
    "        BatchNormalization(axis = 1),\n",
    "        MaxPooling2D(pool_size=(2, 2), padding = 'valid'),\n",
    "        \n",
    "        Conv2D(128, kernel_size = (3, 3), padding = 'valid', activation = 'relu', use_bias = True, kernel_regularizer = L1L2(l1=0.0, l2=0.5)),\n",
    "        Conv2D(128, kernel_size = (3, 3), padding = 'valid', activation = 'relu', use_bias = True, kernel_regularizer = L1L2(l1=0.0, l2=0.5)),\n",
    "        BatchNormalization(axis = 1),\n",
    "        MaxPooling2D(pool_size=(2, 2), padding = 'valid'),\n",
    "        \n",
    "        Dropout(0.6),\n",
    "        Flatten(),\n",
    "        LSTM(128, return_sequences = True, return_state = True),\n",
    "        LSTM(64, return_sequences = True, return_state = True),\n",
    "        Dense(4, activation=\"softmax\")\n",
    "    ])\n",
    "    \n",
    "    model.compile(loss='categorical_crossentropy', optimizer=Adam(lr=0.001, epsilon=1e-8, decay=0.01), metrics=[categorical_accuracy])\n",
    "\n",
    "    \n",
    "    return model"
   ]
  },
  {
   "cell_type": "code",
   "execution_count": null,
   "metadata": {},
   "outputs": [],
   "source": []
  }
 ],
 "metadata": {
  "kernelspec": {
   "display_name": "Python 3 (ipykernel)",
   "language": "python",
   "name": "python3"
  },
  "language_info": {
   "codemirror_mode": {
    "name": "ipython",
    "version": 3
   },
   "file_extension": ".py",
   "mimetype": "text/x-python",
   "name": "python",
   "nbconvert_exporter": "python",
   "pygments_lexer": "ipython3",
   "version": "3.10.9"
  }
 },
 "nbformat": 4,
 "nbformat_minor": 2
}

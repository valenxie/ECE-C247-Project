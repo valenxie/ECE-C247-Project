{
 "cells": [
  {
   "cell_type": "code",
   "execution_count": null,
   "id": "54f54909",
   "metadata": {},
   "outputs": [],
   "source": [
    "def crnn_model(data, time_period = 1000):\n",
    "\n",
    "    model = keras.Sequential(\n",
    "    [\n",
    "\n",
    "        Conv2D(32, kernel_size = (3, 3), padding = 'valid', activation = 'relu', use_bias = True, kernel_regularizer = L1L2(l1=0.0, l2=0.5)),\n",
    "        Conv2D(32, kernel_size = (3, 3), padding = 'valid', activation = 'relu', use_bias = True, kernel_regularizer = L1L2(l1=0.0, l2=0.5)),\n",
    "        BatchNormalization(axis = 1),\n",
    "        MaxPooling2D(pool_size=(2, 2), padding = 'valid'),\n",
    "        \n",
    "        Conv2D(64, kernel_size = (3, 3), padding = 'valid', activation = 'relu', use_bias = True, kernel_regularizer = L1L2(l1=0.0, l2=0.5)),\n",
    "        Conv2D(64, kernel_size = (3, 3), padding = 'valid', activation = 'relu', use_bias = True, kernel_regularizer = L1L2(l1=0.0, l2=0.5)),\n",
    "        BatchNormalization(axis = 1),\n",
    "        MaxPooling2D(pool_size=(2, 2), padding = 'valid'),\n",
    "        \n",
    "        Conv2D(128, kernel_size = (3, 3), padding = 'valid', activation = 'relu', use_bias = True, kernel_regularizer = L1L2(l1=0.0, l2=0.5)),\n",
    "        Conv2D(128, kernel_size = (3, 3), padding = 'valid', activation = 'relu', use_bias = True, kernel_regularizer = L1L2(l1=0.0, l2=0.5)),\n",
    "        BatchNormalization(axis = 1),\n",
    "        MaxPooling2D(pool_size=(2, 2), padding = 'valid'),\n",
    "        \n",
    "        Dropout(0.6),\n",
    "        Flatten(),\n",
    "        LSTM(128, return_sequences = True, return_state = True),\n",
    "        LSTM(64, return_sequences = True, return_state = True),\n",
    "        Dense(4, activation=\"softmax\")\n",
    "    ])\n",
    "    \n",
    "    model.compile(loss='categorical_crossentropy', optimizer=Adam(lr=0.001, epsilon=1e-8, decay=0.01), metrics=[categorical_accuracy])\n",
    "\n",
    "    \n",
    "    return model"
   ]
  }
 ],
 "metadata": {
  "kernelspec": {
   "display_name": "Python 3 (ipykernel)",
   "language": "python",
   "name": "python3"
  },
  "language_info": {
   "codemirror_mode": {
    "name": "ipython",
    "version": 3
   },
   "file_extension": ".py",
   "mimetype": "text/x-python",
   "name": "python",
   "nbconvert_exporter": "python",
   "pygments_lexer": "ipython3",
   "version": "3.7.16"
  }
 },
 "nbformat": 4,
 "nbformat_minor": 5
}
